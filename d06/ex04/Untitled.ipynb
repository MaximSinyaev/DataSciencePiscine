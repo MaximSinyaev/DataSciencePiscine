{
 "cells": [
  {
   "cell_type": "code",
   "execution_count": 1,
   "metadata": {},
   "outputs": [],
   "source": [
    "import pandas as pd\n",
    "import sqlite3"
   ]
  },
  {
   "cell_type": "markdown",
   "metadata": {},
   "source": [
    "## create a connection to the database using the library sqlite3"
   ]
  },
  {
   "cell_type": "code",
   "execution_count": 2,
   "metadata": {},
   "outputs": [],
   "source": [
    "db_connection = sqlite3.connect('../data/checking-logs.sqlite')"
   ]
  },
  {
   "cell_type": "markdown",
   "metadata": {},
   "source": [
    "## using only one query for each of the groups create two dataframes: test_results and control_results with the columns time and avg_diff and only two rows\n",
    "- time should have values: after and before\n",
    "- avg_diff contains the average difference among all the users for the time period before each of them made their first visit to the page and after it\n",
    "- take into account only the users that have observations before and after\n"
   ]
  },
  {
   "cell_type": "code",
   "execution_count": 122,
   "metadata": {},
   "outputs": [],
   "source": [
    "query = '''\n",
    "with test_users as (\n",
    "select\n",
    "    uid\n",
    "from\n",
    "    (select distinct\n",
    "        uid,\n",
    "        case\n",
    "            when checker_ts > first_view_ts then\n",
    "                'after'\n",
    "            else 'before'\n",
    "        end time\n",
    "    from test)\n",
    "group by uid\n",
    "having count(time) >= 2)\n",
    "select\n",
    "    case\n",
    "        when checker_ts > first_view_ts then\n",
    "            'after'\n",
    "        else 'before'\n",
    "    end time,\n",
    "    avg(cast((-JulianDay(test.checker_ts) + (JulianDay(test.first_view_ts))) * 24 as Integer)) avg_diff\n",
    "from test\n",
    "where uid in test_users\n",
    "group by time\n",
    "\n",
    "'''"
   ]
  },
  {
   "cell_type": "code",
   "execution_count": 123,
   "metadata": {},
   "outputs": [],
   "source": [
    "test_results = pd.io.sql.read_sql(query, db_connection)"
   ]
  },
  {
   "cell_type": "code",
   "execution_count": 124,
   "metadata": {},
   "outputs": [
    {
     "data": {
      "text/html": [
       "<div>\n",
       "<style scoped>\n",
       "    .dataframe tbody tr th:only-of-type {\n",
       "        vertical-align: middle;\n",
       "    }\n",
       "\n",
       "    .dataframe tbody tr th {\n",
       "        vertical-align: top;\n",
       "    }\n",
       "\n",
       "    .dataframe thead th {\n",
       "        text-align: right;\n",
       "    }\n",
       "</style>\n",
       "<table border=\"1\" class=\"dataframe\">\n",
       "  <thead>\n",
       "    <tr style=\"text-align: right;\">\n",
       "      <th></th>\n",
       "      <th>time</th>\n",
       "      <th>avg_diff</th>\n",
       "    </tr>\n",
       "  </thead>\n",
       "  <tbody>\n",
       "    <tr>\n",
       "      <th>0</th>\n",
       "      <td>after</td>\n",
       "      <td>-368.800000</td>\n",
       "    </tr>\n",
       "    <tr>\n",
       "      <th>1</th>\n",
       "      <td>before</td>\n",
       "      <td>155.421053</td>\n",
       "    </tr>\n",
       "  </tbody>\n",
       "</table>\n",
       "</div>"
      ],
      "text/plain": [
       "     time    avg_diff\n",
       "0   after -368.800000\n",
       "1  before  155.421053"
      ]
     },
     "execution_count": 124,
     "metadata": {},
     "output_type": "execute_result"
    }
   ],
   "source": [
    "test_results"
   ]
  },
  {
   "cell_type": "code",
   "execution_count": 125,
   "metadata": {},
   "outputs": [],
   "source": [
    "query = '''\n",
    "with control_users as (\n",
    "select\n",
    "    uid\n",
    "from\n",
    "    (select distinct\n",
    "        uid,\n",
    "        case\n",
    "            when checker_ts > first_view_ts then\n",
    "                'after'\n",
    "            else 'before'\n",
    "        end time\n",
    "    from control)\n",
    "group by uid\n",
    "having count(time) >= 2)\n",
    "select\n",
    "    case\n",
    "        when checker_ts > first_view_ts then\n",
    "            'after'\n",
    "        else 'before'\n",
    "    end time,\n",
    "    avg(cast((-JulianDay(checker_ts) + (JulianDay(first_view_ts))) * 24 as Integer)) avg_diff\n",
    "from control\n",
    "where uid in control_users\n",
    "group by time\n",
    "\n",
    "'''"
   ]
  },
  {
   "cell_type": "code",
   "execution_count": 126,
   "metadata": {},
   "outputs": [],
   "source": [
    "control_results = pd.io.sql.read_sql(query, db_connection)"
   ]
  },
  {
   "cell_type": "code",
   "execution_count": 127,
   "metadata": {},
   "outputs": [
    {
     "data": {
      "text/html": [
       "<div>\n",
       "<style scoped>\n",
       "    .dataframe tbody tr th:only-of-type {\n",
       "        vertical-align: middle;\n",
       "    }\n",
       "\n",
       "    .dataframe tbody tr th {\n",
       "        vertical-align: top;\n",
       "    }\n",
       "\n",
       "    .dataframe thead th {\n",
       "        text-align: right;\n",
       "    }\n",
       "</style>\n",
       "<table border=\"1\" class=\"dataframe\">\n",
       "  <thead>\n",
       "    <tr style=\"text-align: right;\">\n",
       "      <th></th>\n",
       "      <th>time</th>\n",
       "      <th>avg_diff</th>\n",
       "    </tr>\n",
       "  </thead>\n",
       "  <tbody>\n",
       "    <tr>\n",
       "      <th>0</th>\n",
       "      <td>after</td>\n",
       "      <td>-329.630435</td>\n",
       "    </tr>\n",
       "    <tr>\n",
       "      <th>1</th>\n",
       "      <td>before</td>\n",
       "      <td>104.689655</td>\n",
       "    </tr>\n",
       "  </tbody>\n",
       "</table>\n",
       "</div>"
      ],
      "text/plain": [
       "     time    avg_diff\n",
       "0   after -329.630435\n",
       "1  before  104.689655"
      ]
     },
     "execution_count": 127,
     "metadata": {},
     "output_type": "execute_result"
    }
   ],
   "source": [
    "control_results"
   ]
  },
  {
   "cell_type": "markdown",
   "metadata": {},
   "source": [
    "## we still do not use the lab 'project1'"
   ]
  },
  {
   "cell_type": "code",
   "execution_count": 128,
   "metadata": {},
   "outputs": [],
   "source": [
    "query = '''\n",
    "with test_users as (\n",
    "select\n",
    "    uid\n",
    "from\n",
    "    (select distinct\n",
    "        uid,\n",
    "        case\n",
    "            when checker_ts > first_view_ts then\n",
    "                'after'\n",
    "            else 'before'\n",
    "        end time\n",
    "    from test)\n",
    "group by uid\n",
    "having count(time) >= 2)\n",
    "select\n",
    "    case\n",
    "        when checker_ts > first_view_ts then\n",
    "            'after'\n",
    "        else 'before'\n",
    "    end time,\n",
    "    avg(cast((-JulianDay(test.checker_ts) + (JulianDay(test.first_view_ts))) * 24 as Integer)) avg_diff\n",
    "from test\n",
    "where\n",
    "    uid in test_users and\n",
    "    labname != 'project1'\n",
    "group by time\n",
    "\n",
    "'''"
   ]
  },
  {
   "cell_type": "code",
   "execution_count": 129,
   "metadata": {},
   "outputs": [],
   "source": [
    "test_results = pd.io.sql.read_sql(query, db_connection)"
   ]
  },
  {
   "cell_type": "code",
   "execution_count": 130,
   "metadata": {},
   "outputs": [
    {
     "data": {
      "text/html": [
       "<div>\n",
       "<style scoped>\n",
       "    .dataframe tbody tr th:only-of-type {\n",
       "        vertical-align: middle;\n",
       "    }\n",
       "\n",
       "    .dataframe tbody tr th {\n",
       "        vertical-align: top;\n",
       "    }\n",
       "\n",
       "    .dataframe thead th {\n",
       "        text-align: right;\n",
       "    }\n",
       "</style>\n",
       "<table border=\"1\" class=\"dataframe\">\n",
       "  <thead>\n",
       "    <tr style=\"text-align: right;\">\n",
       "      <th></th>\n",
       "      <th>time</th>\n",
       "      <th>avg_diff</th>\n",
       "    </tr>\n",
       "  </thead>\n",
       "  <tbody>\n",
       "    <tr>\n",
       "      <th>0</th>\n",
       "      <td>after</td>\n",
       "      <td>-371.7500</td>\n",
       "    </tr>\n",
       "    <tr>\n",
       "      <th>1</th>\n",
       "      <td>before</td>\n",
       "      <td>181.3125</td>\n",
       "    </tr>\n",
       "  </tbody>\n",
       "</table>\n",
       "</div>"
      ],
      "text/plain": [
       "     time  avg_diff\n",
       "0   after -371.7500\n",
       "1  before  181.3125"
      ]
     },
     "execution_count": 130,
     "metadata": {},
     "output_type": "execute_result"
    }
   ],
   "source": [
    "test_results"
   ]
  },
  {
   "cell_type": "code",
   "execution_count": 131,
   "metadata": {},
   "outputs": [],
   "source": [
    "query = '''\n",
    "with control_users as (\n",
    "select\n",
    "    uid\n",
    "from\n",
    "    (select distinct\n",
    "        uid,\n",
    "        case\n",
    "            when checker_ts > first_view_ts then\n",
    "                'after'\n",
    "            else 'before'\n",
    "        end time\n",
    "    from control)\n",
    "group by uid\n",
    "having count(time) >= 2)\n",
    "select\n",
    "    case\n",
    "        when checker_ts > first_view_ts then\n",
    "            'after'\n",
    "        else 'before'\n",
    "    end time,\n",
    "    avg(cast((-JulianDay(checker_ts) + (JulianDay(first_view_ts))) * 24 as Integer)) avg_diff\n",
    "from control\n",
    "where\n",
    "    uid in control_users and\n",
    "    labname != 'project1'\n",
    "group by time\n",
    "\n",
    "'''"
   ]
  },
  {
   "cell_type": "code",
   "execution_count": 132,
   "metadata": {},
   "outputs": [],
   "source": [
    "control_results = pd.io.sql.read_sql(query, db_connection)"
   ]
  },
  {
   "cell_type": "code",
   "execution_count": 133,
   "metadata": {},
   "outputs": [
    {
     "data": {
      "text/html": [
       "<div>\n",
       "<style scoped>\n",
       "    .dataframe tbody tr th:only-of-type {\n",
       "        vertical-align: middle;\n",
       "    }\n",
       "\n",
       "    .dataframe tbody tr th {\n",
       "        vertical-align: top;\n",
       "    }\n",
       "\n",
       "    .dataframe thead th {\n",
       "        text-align: right;\n",
       "    }\n",
       "</style>\n",
       "<table border=\"1\" class=\"dataframe\">\n",
       "  <thead>\n",
       "    <tr style=\"text-align: right;\">\n",
       "      <th></th>\n",
       "      <th>time</th>\n",
       "      <th>avg_diff</th>\n",
       "    </tr>\n",
       "  </thead>\n",
       "  <tbody>\n",
       "    <tr>\n",
       "      <th>0</th>\n",
       "      <td>after</td>\n",
       "      <td>-323.606061</td>\n",
       "    </tr>\n",
       "    <tr>\n",
       "      <th>1</th>\n",
       "      <td>before</td>\n",
       "      <td>100.035714</td>\n",
       "    </tr>\n",
       "  </tbody>\n",
       "</table>\n",
       "</div>"
      ],
      "text/plain": [
       "     time    avg_diff\n",
       "0   after -323.606061\n",
       "1  before  100.035714"
      ]
     },
     "execution_count": 133,
     "metadata": {},
     "output_type": "execute_result"
    }
   ],
   "source": [
    "control_results"
   ]
  }
 ],
 "metadata": {
  "kernelspec": {
   "display_name": "Python 3",
   "language": "python",
   "name": "python3"
  },
  "language_info": {
   "codemirror_mode": {
    "name": "ipython",
    "version": 3
   },
   "file_extension": ".py",
   "mimetype": "text/x-python",
   "name": "python",
   "nbconvert_exporter": "python",
   "pygments_lexer": "ipython3",
   "version": "3.7.3"
  }
 },
 "nbformat": 4,
 "nbformat_minor": 4
}
