{
 "cells": [
  {
   "cell_type": "code",
   "execution_count": 1,
   "metadata": {},
   "outputs": [],
   "source": [
    "import pandas as pd"
   ]
  },
  {
   "cell_type": "markdown",
   "metadata": {},
   "source": [
    "## Reading file"
   ]
  },
  {
   "cell_type": "code",
   "execution_count": 2,
   "metadata": {},
   "outputs": [],
   "source": [
    "header = ['datetime', 'user']"
   ]
  },
  {
   "cell_type": "code",
   "execution_count": 3,
   "metadata": {},
   "outputs": [
    {
     "name": "stderr",
     "output_type": "stream",
     "text": [
      "/home/poligon/anaconda3/lib/python3.7/site-packages/ipykernel_launcher.py:6: ParserWarning: Falling back to the 'python' engine because the 'c' engine does not support skipfooter; you can avoid this warning by specifying engine='python'.\n",
      "  \n"
     ]
    }
   ],
   "source": [
    "df = pd.read_csv('../data/feed-views.log',\n",
    "            delimiter='\\t',\n",
    "            names=header,\n",
    "            skiprows=[2, 3],\n",
    "            skipfooter=2,\n",
    "            index_col='datetime')"
   ]
  },
  {
   "cell_type": "code",
   "execution_count": 4,
   "metadata": {},
   "outputs": [
    {
     "data": {
      "text/html": [
       "<div>\n",
       "<style scoped>\n",
       "    .dataframe tbody tr th:only-of-type {\n",
       "        vertical-align: middle;\n",
       "    }\n",
       "\n",
       "    .dataframe tbody tr th {\n",
       "        vertical-align: top;\n",
       "    }\n",
       "\n",
       "    .dataframe thead th {\n",
       "        text-align: right;\n",
       "    }\n",
       "</style>\n",
       "<table border=\"1\" class=\"dataframe\">\n",
       "  <thead>\n",
       "    <tr style=\"text-align: right;\">\n",
       "      <th></th>\n",
       "      <th>user</th>\n",
       "    </tr>\n",
       "    <tr>\n",
       "      <th>datetime</th>\n",
       "      <th></th>\n",
       "    </tr>\n",
       "  </thead>\n",
       "  <tbody>\n",
       "    <tr>\n",
       "      <th>2020-04-17 12:01:08.463179</th>\n",
       "      <td>artem</td>\n",
       "    </tr>\n",
       "    <tr>\n",
       "      <th>2020-04-17 12:35:44.884757</th>\n",
       "      <td>artem</td>\n",
       "    </tr>\n",
       "    <tr>\n",
       "      <th>2020-04-17 12:35:52.735016</th>\n",
       "      <td>artem</td>\n",
       "    </tr>\n",
       "    <tr>\n",
       "      <th>2020-04-17 12:36:21.401412</th>\n",
       "      <td>oksana</td>\n",
       "    </tr>\n",
       "    <tr>\n",
       "      <th>2020-04-17 12:36:22.023355</th>\n",
       "      <td>oksana</td>\n",
       "    </tr>\n",
       "  </tbody>\n",
       "</table>\n",
       "</div>"
      ],
      "text/plain": [
       "                              user\n",
       "datetime                          \n",
       "2020-04-17 12:01:08.463179   artem\n",
       "2020-04-17 12:35:44.884757   artem\n",
       "2020-04-17 12:35:52.735016   artem\n",
       "2020-04-17 12:36:21.401412  oksana\n",
       "2020-04-17 12:36:22.023355  oksana"
      ]
     },
     "execution_count": 4,
     "metadata": {},
     "output_type": "execute_result"
    }
   ],
   "source": [
    "df.head()"
   ]
  },
  {
   "cell_type": "markdown",
   "metadata": {},
   "source": [
    "## Rename datetime to date_time"
   ]
  },
  {
   "cell_type": "code",
   "execution_count": 5,
   "metadata": {},
   "outputs": [],
   "source": [
    "df.index.name = 'date_time'"
   ]
  },
  {
   "cell_type": "code",
   "execution_count": 6,
   "metadata": {
    "scrolled": false
   },
   "outputs": [
    {
     "data": {
      "text/html": [
       "<div>\n",
       "<style scoped>\n",
       "    .dataframe tbody tr th:only-of-type {\n",
       "        vertical-align: middle;\n",
       "    }\n",
       "\n",
       "    .dataframe tbody tr th {\n",
       "        vertical-align: top;\n",
       "    }\n",
       "\n",
       "    .dataframe thead th {\n",
       "        text-align: right;\n",
       "    }\n",
       "</style>\n",
       "<table border=\"1\" class=\"dataframe\">\n",
       "  <thead>\n",
       "    <tr style=\"text-align: right;\">\n",
       "      <th></th>\n",
       "      <th>user</th>\n",
       "    </tr>\n",
       "    <tr>\n",
       "      <th>date_time</th>\n",
       "      <th></th>\n",
       "    </tr>\n",
       "  </thead>\n",
       "  <tbody>\n",
       "    <tr>\n",
       "      <th>2020-04-17 12:01:08.463179</th>\n",
       "      <td>artem</td>\n",
       "    </tr>\n",
       "    <tr>\n",
       "      <th>2020-04-17 12:35:44.884757</th>\n",
       "      <td>artem</td>\n",
       "    </tr>\n",
       "    <tr>\n",
       "      <th>2020-04-17 12:35:52.735016</th>\n",
       "      <td>artem</td>\n",
       "    </tr>\n",
       "    <tr>\n",
       "      <th>2020-04-17 12:36:21.401412</th>\n",
       "      <td>oksana</td>\n",
       "    </tr>\n",
       "    <tr>\n",
       "      <th>2020-04-17 12:36:22.023355</th>\n",
       "      <td>oksana</td>\n",
       "    </tr>\n",
       "  </tbody>\n",
       "</table>\n",
       "</div>"
      ],
      "text/plain": [
       "                              user\n",
       "date_time                         \n",
       "2020-04-17 12:01:08.463179   artem\n",
       "2020-04-17 12:35:44.884757   artem\n",
       "2020-04-17 12:35:52.735016   artem\n",
       "2020-04-17 12:36:21.401412  oksana\n",
       "2020-04-17 12:36:22.023355  oksana"
      ]
     },
     "execution_count": 6,
     "metadata": {},
     "output_type": "execute_result"
    }
   ],
   "source": [
    "df.head()"
   ]
  },
  {
   "cell_type": "markdown",
   "metadata": {},
   "source": [
    "## to_csv"
   ]
  },
  {
   "cell_type": "code",
   "execution_count": 7,
   "metadata": {},
   "outputs": [],
   "source": [
    "df.to_csv('../data/feed-views-semicolon.log', sep=';')"
   ]
  },
  {
   "cell_type": "code",
   "execution_count": 8,
   "metadata": {},
   "outputs": [],
   "source": [
    "df2 = pd.read_csv('../data/feed-views-semicolon.log', sep=';')"
   ]
  }
 ],
 "metadata": {
  "kernelspec": {
   "display_name": "Python 3",
   "language": "python",
   "name": "python3"
  },
  "language_info": {
   "codemirror_mode": {
    "name": "ipython",
    "version": 3
   },
   "file_extension": ".py",
   "mimetype": "text/x-python",
   "name": "python",
   "nbconvert_exporter": "python",
   "pygments_lexer": "ipython3",
   "version": "3.7.3"
  }
 },
 "nbformat": 4,
 "nbformat_minor": 4
}
